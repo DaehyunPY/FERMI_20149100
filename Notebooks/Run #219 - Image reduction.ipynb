{
 "cells": [
  {
   "cell_type": "code",
   "execution_count": 1,
   "metadata": {},
   "outputs": [],
   "source": [
    "from glob import iglob\n",
    "from datetime import datetime\n",
    "from itertools import chain, repeat\n",
    "from functools import reduce, partial\n",
    "\n",
    "import numpy as np\n",
    "import pandas as pd\n",
    "from cytoolz import compose, reduce\n",
    "from h5py import File\n",
    "from dask import delayed, compute\n",
    "from dask.bag import from_sequence\n",
    "from dask.diagnostics import ProgressBar\n",
    "import matplotlib.pyplot as plt\n",
    "from numba import jit"
   ]
  },
  {
   "cell_type": "code",
   "execution_count": 2,
   "metadata": {},
   "outputs": [],
   "source": [
    "def is_available(filename):\n",
    "    try:\n",
    "        with File(filename, 'r'):\n",
    "            pass\n",
    "        return True\n",
    "    except Exception:\n",
    "        return False\n",
    "\n",
    "\n",
    "def read_scala(filename, tag_offset = None):\n",
    "    if tag_offset is None:\n",
    "        where = slice(None)\n",
    "    else:\n",
    "        where = slice(tag_offset, None)\n",
    "    with File(filename, 'r') as f:\n",
    "        try:\n",
    "            for tag, iom, img, dt in zip(\n",
    "                f['/bunches'][where],\n",
    "                f['/photon_diagnostics/FEL01/I0_monitor/iom_sh_a_pc'][where],\n",
    "                f['/vmi/andor'],\n",
    "                f['/user_laser/delay_line/position'][where],\n",
    "            ):\n",
    "                yield {\n",
    "                    'tag': tag,\n",
    "                    'iom_intensity_pc': iom,\n",
    "                    'img_intensity': img.sum(),\n",
    "                    'delay_float': dt,\n",
    "                }\n",
    "        except KeyError:\n",
    "            return"
   ]
  },
  {
   "cell_type": "code",
   "execution_count": 3,
   "metadata": {},
   "outputs": [
    {
     "name": "stdout",
     "output_type": "stream",
     "text": [
      "Total 520 files:\n",
      "    /data/Step501N2/Run_219/rawdata/Run_219_487233077.h5\n",
      "    /data/Step501N2/Run_219/rawdata/Run_219_487233177.h5\n",
      "    /data/Step501N2/Run_219/rawdata/Run_219_487233277.h5\n",
      "    /data/Step501N2/Run_219/rawdata/Run_219_487233377.h5\n",
      "    /data/Step501N2/Run_219/rawdata/Run_219_487233477.h5\n",
      "    ...\n"
     ]
    }
   ],
   "source": [
    "run = 219\n",
    "tag_offset = 0  # 0 or 1\n",
    "filenames = sorted(fn for fn in set(iglob(f\"/data/*/Run_{run:03d}/rawdata/*.h5\")))\n",
    "print(f\"Total {len(filenames)} files:\")\n",
    "for fn in filenames[:5]:\n",
    "    print(f\"    {fn}\")\n",
    "print(\"    ...\")"
   ]
  },
  {
   "cell_type": "code",
   "execution_count": 4,
   "metadata": {},
   "outputs": [
    {
     "name": "stdout",
     "output_type": "stream",
     "text": [
      "[########################################] | 100% Completed |  0.4s\n",
      "[########################################] | 100% Completed | 22.0s\n"
     ]
    },
    {
     "data": {
      "text/html": [
       "<div>\n",
       "<style scoped>\n",
       "    .dataframe tbody tr th:only-of-type {\n",
       "        vertical-align: middle;\n",
       "    }\n",
       "\n",
       "    .dataframe tbody tr th {\n",
       "        vertical-align: top;\n",
       "    }\n",
       "\n",
       "    .dataframe thead th {\n",
       "        text-align: right;\n",
       "    }\n",
       "</style>\n",
       "<table border=\"1\" class=\"dataframe\">\n",
       "  <thead>\n",
       "    <tr style=\"text-align: right;\">\n",
       "      <th></th>\n",
       "      <th>delay_float</th>\n",
       "      <th>img_intensity</th>\n",
       "      <th>iom_intensity_pc</th>\n",
       "      <th>tag</th>\n",
       "    </tr>\n",
       "  </thead>\n",
       "  <tbody>\n",
       "    <tr>\n",
       "      <th>0</th>\n",
       "      <td>-6.099971</td>\n",
       "      <td>281147695</td>\n",
       "      <td>11.882401</td>\n",
       "      <td>487289173</td>\n",
       "    </tr>\n",
       "    <tr>\n",
       "      <th>1</th>\n",
       "      <td>-6.099971</td>\n",
       "      <td>269753339</td>\n",
       "      <td>11.657524</td>\n",
       "      <td>487289174</td>\n",
       "    </tr>\n",
       "    <tr>\n",
       "      <th>2</th>\n",
       "      <td>-6.099971</td>\n",
       "      <td>213160399</td>\n",
       "      <td>11.496162</td>\n",
       "      <td>487289175</td>\n",
       "    </tr>\n",
       "    <tr>\n",
       "      <th>3</th>\n",
       "      <td>-6.099971</td>\n",
       "      <td>346693614</td>\n",
       "      <td>12.048912</td>\n",
       "      <td>487289176</td>\n",
       "    </tr>\n",
       "    <tr>\n",
       "      <th>4</th>\n",
       "      <td>-6.099971</td>\n",
       "      <td>324884776</td>\n",
       "      <td>11.956215</td>\n",
       "      <td>487289177</td>\n",
       "    </tr>\n",
       "  </tbody>\n",
       "</table>\n",
       "</div>"
      ],
      "text/plain": [
       "   delay_float  img_intensity  iom_intensity_pc        tag\n",
       "0    -6.099971      281147695         11.882401  487289173\n",
       "1    -6.099971      269753339         11.657524  487289174\n",
       "2    -6.099971      213160399         11.496162  487289175\n",
       "3    -6.099971      346693614         12.048912  487289176\n",
       "4    -6.099971      324884776         11.956215  487289177"
      ]
     },
     "execution_count": 4,
     "metadata": {},
     "output_type": "execute_result"
    }
   ],
   "source": [
    "with ProgressBar():\n",
    "    df = (\n",
    "        from_sequence(filenames)\n",
    "        .topk(10)\n",
    "        .map(read_scala, tag_offset=tag_offset)\n",
    "        .flatten()\n",
    "        .to_dataframe()\n",
    "        .compute()\n",
    "    )\n",
    "df.head()"
   ]
  },
  {
   "cell_type": "code",
   "execution_count": null,
   "metadata": {},
   "outputs": [
    {
     "data": {
      "image/png": "[encoded data removed]",
      "text/plain": [
       "<Figure size 432x288 with 1 Axes>"
      ]
     },
     "metadata": {
      "needs_background": "light"
     },
     "output_type": "display_data"
    }
   ],
   "source": [
    "iom_limit = 10\n",
    "\n",
    "plt.figure()\n",
    "plt.hist(df[\"iom_intensity_pc\"], bins=200)\n",
    "plt.axvline(iom_limit, color='k', linestyle='--')\n",
    "plt.xlabel(\"IOM (pC)\")\n",
    "plt.ylabel(\"Counts\")\n",
    "plt.grid(True)\n",
    "plt.show()"
   ]
  },
  {
   "cell_type": "code",
   "execution_count": null,
   "metadata": {},
   "outputs": [
    {
     "data": {
      "image/png": "[encoded data removed]",
      "text/plain": [
       "<Figure size 432x288 with 2 Axes>"
      ]
     },
     "metadata": {
      "needs_background": "light"
     },
     "output_type": "display_data"
    }
   ],
   "source": [
    "bg_period, bg_mod = 3, 0  # Confirm this parameters!\n",
    "df[\"is_bg\"] = df[\"tag\"] % bg_period == bg_mod\n",
    "\n",
    "plt.figure()\n",
    "plt.subplot(121)\n",
    "where = df[\"is_bg\"]\n",
    "plt.hist2d(df[where][\"iom_intensity_pc\"],\n",
    "           df[where][\"img_intensity\"], bins=[20, 20], cmap=\"Greys\")\n",
    "plt.title(\"Background\")\n",
    "plt.xlabel(\"IOM (pC)\")\n",
    "plt.ylabel(\"VMI intensity\")\n",
    "plt.grid(True)\n",
    "\n",
    "plt.subplot(122)\n",
    "where = ~df[\"is_bg\"]\n",
    "plt.hist2d(df[where][\"iom_intensity_pc\"],\n",
    "           df[where][\"img_intensity\"], bins=[20, 20], cmap=\"Greys\")\n",
    "plt.title(\"Singal\")\n",
    "plt.xlabel(\"IOM (pC)\")\n",
    "plt.ylabel(\"VMI intensity\")\n",
    "plt.grid(True)\n",
    "plt.tight_layout()\n",
    "plt.show()"
   ]
  },
  {
   "cell_type": "code",
   "execution_count": null,
   "metadata": {},
   "outputs": [],
   "source": [
    "def read_img(filename, tag_offset = None):\n",
    "    if tag_offset is None:\n",
    "        where = slice(None)\n",
    "    else:\n",
    "        where = slice(tag_offset, None)\n",
    "\n",
    "    with File(filename, 'r') as f:\n",
    "        try:\n",
    "            for tag, img, iom, dt, y in zip(\n",
    "                f['/bunches'][where],\n",
    "                f['/vmi/andor'],\n",
    "                f['/photon_diagnostics/FEL01/I0_monitor/iom_sh_a_pc'][where],\n",
    "                f['/user_laser/delay_line/position'][where],\n",
    "                f[\"/photon_diagnostics/Spectrometer/hor_spectrum\"][where],\n",
    "            ):\n",
    "                yield {\n",
    "                    'tag': tag,\n",
    "                    'img': img.astype('double'),\n",
    "                    'iom': iom,\n",
    "                    'delay_float': dt,\n",
    "                    'atmax_float': y.argmax(),\n",
    "                }\n",
    "        except KeyError:\n",
    "            return\n",
    "        \n",
    "\n",
    "@jit\n",
    "def bin_delays(d):\n",
    "    step = 0.02  # Check delay step!\n",
    "    centers = np.arange(-10, 0, step)\n",
    "    bins = (centers[1:] + centers[:-1]) / 2\n",
    "    return centers.item(np.digitize(d, bins=bins))\n",
    "\n",
    "\n",
    "@jit\n",
    "def bin_atmax(d):\n",
    "    step = 5  # Check delay step!\n",
    "    centers = np.arange(0, 1000, step)\n",
    "    bins = (centers[1:] + centers[:-1]) / 2\n",
    "    return centers.item(np.digitize(d, bins=bins))\n",
    "\n",
    "\n",
    "@jit\n",
    "def sumup_images(it):\n",
    "    df = pd.DataFrame(list(it))\n",
    "    where = iom_limit < df['iom']\n",
    "    df['delay'] = df['delay_float'].apply(bin_delays)\n",
    "    df['atmax'] = df['atmax_float'].apply(bin_atmax)\n",
    "    df[\"is_bg\"] = df[\"tag\"] % bg_period == bg_mod\n",
    "    grouped = df[where].groupby(['is_bg', 'delay', 'atmax'])['img']\n",
    "    return pd.DataFrame({\n",
    "        'sum': grouped.apply(sum),\n",
    "        'count': grouped.count(),\n",
    "    })"
   ]
  },
  {
   "cell_type": "code",
   "execution_count": null,
   "metadata": {},
   "outputs": [
    {
     "name": "stdout",
     "output_type": "stream",
     "text": [
      "[####################################### ] | 99% Completed | 37min 31.0s"
     ]
    }
   ],
   "source": [
    "reduced = partial(reduce, partial(pd.DataFrame.add, fill_value=0))\n",
    "\n",
    "with ProgressBar():\n",
    "    summed = (\n",
    "        from_sequence(filenames)\n",
    "        .map(read_img, tag_offset=tag_offset)\n",
    "        .flatten()\n",
    "        .reduction(sumup_images, reduced)\n",
    "        .compute()\n",
    "    )\n",
    "summed"
   ]
  },
  {
   "cell_type": "code",
   "execution_count": null,
   "metadata": {},
   "outputs": [],
   "source": [
    "avg = summed['sum'] / summed['count']\n",
    "diff = avg.loc[False] - avg.loc[True]\n",
    "    \n",
    "for (dt, atmax), img in diff.items():\n",
    "    if np.isnan(img).any():\n",
    "        continue\n",
    "    plt.figure(figsize=(15, 5))\n",
    "    plt.subplot(131)\n",
    "    plt.title(\"Background\")\n",
    "    plt.pcolormesh(avg.loc[True, dt, atmax], cmap=\"Greys\")\n",
    "    plt.clim(0, None)\n",
    "    plt.axis('equal')\n",
    "    plt.subplot(132)\n",
    "    plt.title(\"Signal\")\n",
    "    plt.pcolormesh(avg.loc[False, dt, atmax], cmap=\"Greys\")\n",
    "    plt.clim(0, None)\n",
    "    plt.axis('equal')\n",
    "    plt.subplot(133)\n",
    "    plt.title(\"Diff\")\n",
    "    plt.pcolormesh(img, cmap=\"Greys\")\n",
    "    plt.clim(0, None)\n",
    "    plt.axis('equal')\n",
    "    plt.tight_layout()\n",
    "    plt.show()\n",
    "    break"
   ]
  },
  {
   "cell_type": "code",
   "execution_count": null,
   "metadata": {},
   "outputs": [],
   "source": [
    "writein = f\"/data/Step501N2/Run_{run:03d}/work\"\n",
    "summed.to_pickle(f\"{writein}/reduced.pickle\")\n",
    "for (bg, dt, atmax), img, n in summed[['sum', 'count']].itertuples():\n",
    "    ofn = f\"{writein}/reduced_{('bg' if bg else 'sg')},dt={dt:.3f},atmax={atmax:d}.h5\"\n",
    "    print(ofn)\n",
    "    with File(ofn, \"w\") as f:\n",
    "        f['is_bg'] = bg\n",
    "        f['delay'] = dt\n",
    "        f['n'] = n\n",
    "        f['img'] = img"
   ]
  }
 ],
 "metadata": {
  "kernelspec": {
   "display_name": "Python 3",
   "language": "python",
   "name": "python3"
  },
  "language_info": {
   "codemirror_mode": {
    "name": "ipython",
    "version": 3
   },
   "file_extension": ".py",
   "mimetype": "text/x-python",
   "name": "python",
   "nbconvert_exporter": "python",
   "pygments_lexer": "ipython3",
   "version": "3.7.4"
  }
 },
 "nbformat": 4,
 "nbformat_minor": 4
}
