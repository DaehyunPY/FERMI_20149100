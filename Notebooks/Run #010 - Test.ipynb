{
 "cells": [
  {
   "cell_type": "code",
   "execution_count": 1,
   "metadata": {},
   "outputs": [],
   "source": [
    "from glob import iglob\n",
    "from datetime import datetime\n",
    "from itertools import chain, repeat\n",
    "\n",
    "import numpy as np\n",
    "import pandas as pd\n",
    "from cytoolz import compose, reduce\n",
    "from h5py import File\n",
    "from dask import delayed, compute\n",
    "from dask.bag import from_sequence\n",
    "from dask.diagnostics import ProgressBar"
   ]
  },
  {
   "cell_type": "code",
   "execution_count": 15,
   "metadata": {},
   "outputs": [],
   "source": [
    "def read_afile(filename):\n",
    "    try:\n",
    "        with File(filename, 'r') as f:\n",
    "            yield from ({'filename': filename,\n",
    "                         'tag': tag,\n",
    "                         'iom_intensity_pc': iom,\n",
    "                         'img': img.astype('double'),\n",
    "                         'img_intensity': img.sum(),\n",
    "                         'delay': round(dt, 2)}\n",
    "                        for tag, iom, img, dt\n",
    "                        in zip(f['/bunches'],\n",
    "                               f['/photon_diagnostics/FEL01'\n",
    "                                 '/I0_monitor/iom_sh_a_pc'],\n",
    "                               f['/vmi/andor'],\n",
    "                               f['/user_laser/delay_line/position']))\n",
    "    except Exception as err:\n",
    "        print(err)\n",
    "        yield from ()"
   ]
  },
  {
   "cell_type": "code",
   "execution_count": 16,
   "metadata": {},
   "outputs": [
    {
     "data": {
      "text/html": [
       "<div><strong>Dask DataFrame Structure:</strong></div>\n",
       "<div>\n",
       "<style scoped>\n",
       "    .dataframe tbody tr th:only-of-type {\n",
       "        vertical-align: middle;\n",
       "    }\n",
       "\n",
       "    .dataframe tbody tr th {\n",
       "        vertical-align: top;\n",
       "    }\n",
       "\n",
       "    .dataframe thead th {\n",
       "        text-align: right;\n",
       "    }\n",
       "</style>\n",
       "<table border=\"1\" class=\"dataframe\">\n",
       "  <thead>\n",
       "    <tr style=\"text-align: right;\">\n",
       "      <th></th>\n",
       "      <th>delay</th>\n",
       "      <th>filename</th>\n",
       "      <th>img</th>\n",
       "      <th>img_intensity</th>\n",
       "      <th>iom_intensity_pc</th>\n",
       "      <th>tag</th>\n",
       "    </tr>\n",
       "    <tr>\n",
       "      <th>npartitions=20</th>\n",
       "      <th></th>\n",
       "      <th></th>\n",
       "      <th></th>\n",
       "      <th></th>\n",
       "      <th></th>\n",
       "      <th></th>\n",
       "    </tr>\n",
       "  </thead>\n",
       "  <tbody>\n",
       "    <tr>\n",
       "      <th></th>\n",
       "      <td>float64</td>\n",
       "      <td>object</td>\n",
       "      <td>object</td>\n",
       "      <td>int64</td>\n",
       "      <td>float64</td>\n",
       "      <td>int64</td>\n",
       "    </tr>\n",
       "    <tr>\n",
       "      <th></th>\n",
       "      <td>...</td>\n",
       "      <td>...</td>\n",
       "      <td>...</td>\n",
       "      <td>...</td>\n",
       "      <td>...</td>\n",
       "      <td>...</td>\n",
       "    </tr>\n",
       "    <tr>\n",
       "      <th>...</th>\n",
       "      <td>...</td>\n",
       "      <td>...</td>\n",
       "      <td>...</td>\n",
       "      <td>...</td>\n",
       "      <td>...</td>\n",
       "      <td>...</td>\n",
       "    </tr>\n",
       "    <tr>\n",
       "      <th></th>\n",
       "      <td>...</td>\n",
       "      <td>...</td>\n",
       "      <td>...</td>\n",
       "      <td>...</td>\n",
       "      <td>...</td>\n",
       "      <td>...</td>\n",
       "    </tr>\n",
       "    <tr>\n",
       "      <th></th>\n",
       "      <td>...</td>\n",
       "      <td>...</td>\n",
       "      <td>...</td>\n",
       "      <td>...</td>\n",
       "      <td>...</td>\n",
       "      <td>...</td>\n",
       "    </tr>\n",
       "  </tbody>\n",
       "</table>\n",
       "</div>\n",
       "<div>Dask Name: to_dataframe, 40 tasks</div>"
      ],
      "text/plain": [
       "Dask DataFrame Structure:\n",
       "                  delay filename     img img_intensity iom_intensity_pc    tag\n",
       "npartitions=20                                                                \n",
       "                float64   object  object         int64          float64  int64\n",
       "                    ...      ...     ...           ...              ...    ...\n",
       "...                 ...      ...     ...           ...              ...    ...\n",
       "                    ...      ...     ...           ...              ...    ...\n",
       "                    ...      ...     ...           ...              ...    ...\n",
       "Dask Name: to_dataframe, 40 tasks"
      ]
     },
     "execution_count": 16,
     "metadata": {},
     "output_type": "execute_result"
    }
   ],
   "source": [
    "basename = \"/data/Test/Run_010\"\n",
    "filenames = sorted(iglob(f\"{basename}/rawdata/*.h5\"))\n",
    "df = (\n",
    "    from_sequence(filenames)\n",
    "    .map(read_afile)\n",
    "    .flatten()\n",
    "    .to_dataframe()\n",
    ")\n",
    "df"
   ]
  },
  {
   "cell_type": "code",
   "execution_count": 26,
   "metadata": {},
   "outputs": [
    {
     "name": "stdout",
     "output_type": "stream",
     "text": [
      "[########################################] | 100% Completed | 28.1s\n"
     ]
    }
   ],
   "source": [
    "bg_period, bg_mod = 3, 0  # /Background_Period\n",
    "df['is_bg'] = df['tag'] % bg_period == bg_mod\n",
    "delays = df['delay'].unique().compute()\n",
    "\n",
    "with ProgressBar():\n",
    "    summed = compute(\n",
    "        *[\n",
    "            {\n",
    "                'is_bg': bg, 'delay': dt,\n",
    "                'count': delayed(df[(df['is_bg'] == bg) & (df['delay'] == dt)]['img'].to_bag().count()),\n",
    "                'summed': delayed(df[(df['is_bg'] == bg) & (df['delay'] == dt)]['img'].to_bag().sum()),\n",
    "            }\n",
    "            for bg in [True, False] for dt in delays\n",
    "        ],\n",
    "    )"
   ]
  },
  {
   "cell_type": "code",
   "execution_count": 50,
   "metadata": {},
   "outputs": [],
   "source": [
    "groupped = pd.DataFrame(list(summed)).set_index(['delay', 'is_bg'])\n",
    "\n",
    "for k in set(groupped.index.get_level_values('delay')):\n",
    "    with File(f\"{basename}/work/reduced_dt={k}.h5\", \"w\") as f:\n",
    "        f['bg_n'] = groupped.loc[(k, True), 'count']\n",
    "        f['bg_img'] = groupped.loc[(k, True), 'summed'] / groupped.loc[(k, True), 'count']\n",
    "        f['sg_n'] = groupped.loc[(k, False), 'count']\n",
    "        f['sg_img'] = groupped.loc[(k, False), 'summed'] / groupped.loc[(k, False), 'count']\n",
    "        f['df_n'] = groupped.loc[(k, False), 'count']\n",
    "        f['df_img'] = (\n",
    "            groupped.loc[(k, False), 'summed'] / groupped.loc[(k, False), 'count']\n",
    "            - groupped.loc[(k, True), 'summed'] / groupped.loc[(k, True), 'count']\n",
    "        )"
   ]
  }
 ],
 "metadata": {
  "kernelspec": {
   "display_name": "Python 3",
   "language": "python",
   "name": "python3"
  },
  "language_info": {
   "codemirror_mode": {
    "name": "ipython",
    "version": 3
   },
   "file_extension": ".py",
   "mimetype": "text/x-python",
   "name": "python",
   "nbconvert_exporter": "python",
   "pygments_lexer": "ipython3",
   "version": "3.7.0"
  }
 },
 "nbformat": 4,
 "nbformat_minor": 2
}
