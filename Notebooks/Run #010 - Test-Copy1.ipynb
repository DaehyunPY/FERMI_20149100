{
 "cells": [
  {
   "cell_type": "code",
   "execution_count": 1,
   "metadata": {},
   "outputs": [],
   "source": [
    "from glob import iglob\n",
    "from datetime import datetime\n",
    "from itertools import chain, repeat\n",
    "\n",
    "import numpy as np\n",
    "import pandas as pd\n",
    "from cytoolz import compose, reduce\n",
    "from h5py import File\n",
    "from dask import delayed, compute\n",
    "from dask.bag import from_sequence\n",
    "from dask.diagnostics import ProgressBar"
   ]
  },
  {
   "cell_type": "code",
   "execution_count": 15,
   "metadata": {},
   "outputs": [],
   "source": [
    "def read_afile(filename):\n",
    "    try:\n",
    "        with File(filename, 'r') as f:\n",
    "            yield from ({'filename': filename,\n",
    "                         'tag': tag,\n",
    "                         'iom_intensity_pc': iom,\n",
    "                         'img': img.astype('double'),\n",
    "                         'img_intensity': img.sum(),\n",
    "                         'delay': round(dt, 2)}\n",
    "                        for tag, iom, img, dt\n",
    "                        in zip(f['/bunches'],\n",
    "                               f['/photon_diagnostics/FEL01'\n",
    "                                 '/I0_monitor/iom_sh_a_pc'],\n",
    "                               f['/vmi/andor'],\n",
    "                               f['/user_laser/delay_line/position']))\n",
    "    except Exception as err:\n",
    "        print(err)\n",
    "        yield from ()"
   ]
  },
  {
   "cell_type": "code",
   "execution_count": 16,
   "metadata": {},
   "outputs": [
    {
     "data": {
      "text/html": [
       "<div><strong>Dask DataFrame Structure:</strong></div>\n",
       "<div>\n",
       "<style scoped>\n",
       "    .dataframe tbody tr th:only-of-type {\n",
       "        vertical-align: middle;\n",
       "    }\n",
       "\n",
       "    .dataframe tbody tr th {\n",
       "        vertical-align: top;\n",
       "    }\n",
       "\n",
       "    .dataframe thead th {\n",
       "        text-align: right;\n",
       "    }\n",
       "</style>\n",
       "<table border=\"1\" class=\"dataframe\">\n",
       "  <thead>\n",
       "    <tr style=\"text-align: right;\">\n",
       "      <th></th>\n",
       "      <th>delay</th>\n",
       "      <th>filename</th>\n",
       "      <th>img</th>\n",
       "      <th>img_intensity</th>\n",
       "      <th>iom_intensity_pc</th>\n",
       "      <th>tag</th>\n",
       "    </tr>\n",
       "    <tr>\n",
       "      <th>npartitions=20</th>\n",
       "      <th></th>\n",
       "      <th></th>\n",
       "      <th></th>\n",
       "      <th></th>\n",
       "      <th></th>\n",
       "      <th></th>\n",
       "    </tr>\n",
       "  </thead>\n",
       "  <tbody>\n",
       "    <tr>\n",
       "      <th></th>\n",
       "      <td>float64</td>\n",
       "      <td>object</td>\n",
       "      <td>object</td>\n",
       "      <td>int64</td>\n",
       "      <td>float64</td>\n",
       "      <td>int64</td>\n",
       "    </tr>\n",
       "    <tr>\n",
       "      <th></th>\n",
       "      <td>...</td>\n",
       "      <td>...</td>\n",
       "      <td>...</td>\n",
       "      <td>...</td>\n",
       "      <td>...</td>\n",
       "      <td>...</td>\n",
       "    </tr>\n",
       "    <tr>\n",
       "      <th>...</th>\n",
       "      <td>...</td>\n",
       "      <td>...</td>\n",
       "      <td>...</td>\n",
       "      <td>...</td>\n",
       "      <td>...</td>\n",
       "      <td>...</td>\n",
       "    </tr>\n",
       "    <tr>\n",
       "      <th></th>\n",
       "      <td>...</td>\n",
       "      <td>...</td>\n",
       "      <td>...</td>\n",
       "      <td>...</td>\n",
       "      <td>...</td>\n",
       "      <td>...</td>\n",
       "    </tr>\n",
       "    <tr>\n",
       "      <th></th>\n",
       "      <td>...</td>\n",
       "      <td>...</td>\n",
       "      <td>...</td>\n",
       "      <td>...</td>\n",
       "      <td>...</td>\n",
       "      <td>...</td>\n",
       "    </tr>\n",
       "  </tbody>\n",
       "</table>\n",
       "</div>\n",
       "<div>Dask Name: to_dataframe, 40 tasks</div>"
      ],
      "text/plain": [
       "Dask DataFrame Structure:\n",
       "                  delay filename     img img_intensity iom_intensity_pc    tag\n",
       "npartitions=20                                                                \n",
       "                float64   object  object         int64          float64  int64\n",
       "                    ...      ...     ...           ...              ...    ...\n",
       "...                 ...      ...     ...           ...              ...    ...\n",
       "                    ...      ...     ...           ...              ...    ...\n",
       "                    ...      ...     ...           ...              ...    ...\n",
       "Dask Name: to_dataframe, 40 tasks"
      ]
     },
     "execution_count": 16,
     "metadata": {},
     "output_type": "execute_result"
    }
   ],
   "source": [
    "filenames = sorted(iglob(\"/data/Test/Run_010/rawdata/*.h5\"))\n",
    "df = (\n",
    "    from_sequence(filenames)\n",
    "    .map(read_afile)\n",
    "    .flatten()\n",
    "    .to_dataframe()\n",
    ")\n",
    "df"
   ]
  },
  {
   "cell_type": "code",
   "execution_count": null,
   "metadata": {},
   "outputs": [
    {
     "name": "stdout",
     "output_type": "stream",
     "text": [
      "[###############                         ] | 38% Completed | 19.6s"
     ]
    }
   ],
   "source": [
    "bg_period, bg_mod = 3, 0  # /Background_Period\n",
    "df['is_bg'] = df['tag'] % bg_period == bg_mod\n",
    "delays = df['delay'].unique().compute()\n",
    "\n",
    "with ProgressBar():\n",
    "    summed = compute(\n",
    "        [\n",
    "            {\n",
    "                'is_bg': bg, 'delay': dt,\n",
    "                'count': delayed(df[(df['is_bg'] == bg) & (df['delay'] == dt)]['img'].to_bag().count()),\n",
    "                'summed': delayed(df[(df['is_bg'] == bg) & (df['delay'] == dt)]['img'].to_bag().sum()),\n",
    "            }\n",
    "            for bg in [True, False] for dt in delays\n",
    "        ],\n",
    "    )"
   ]
  },
  {
   "cell_type": "code",
   "execution_count": 17,
   "metadata": {},
   "outputs": [
    {
     "data": {
      "text/plain": [
       "([{'is_bg': True,\n",
       "   'delay': -5.6,\n",
       "   'count': 666,\n",
       "   'summed': array([[67860., 66220., 67226., ..., 67459., 67892., 67023.],\n",
       "          [67008., 67633., 66791., ..., 67970., 66785., 66831.],\n",
       "          [67777., 67004., 66512., ..., 67285., 66725., 67737.],\n",
       "          ...,\n",
       "          [67567., 67546., 67129., ..., 66646., 66691., 67105.],\n",
       "          [68224., 66876., 67290., ..., 67691., 67224., 67732.],\n",
       "          [67529., 67033., 66882., ..., 66877., 67731., 66865.]])},\n",
       "  {'is_bg': False,\n",
       "   'delay': -5.6,\n",
       "   'count': 1334,\n",
       "   'summed': array([[135791., 132824., 134841., ..., 135084., 136084., 134243.],\n",
       "          [134041., 135427., 133505., ..., 136092., 133759., 134096.],\n",
       "          [135746., 134591., 133408., ..., 134795., 133848., 135716.],\n",
       "          ...,\n",
       "          [135367., 135027., 134296., ..., 133164., 133566., 134169.],\n",
       "          [136682., 134195., 134913., ..., 135685., 134537., 135570.],\n",
       "          [135387., 134470., 134007., ..., 133996., 135531., 133851.]])}],)"
      ]
     },
     "execution_count": 17,
     "metadata": {},
     "output_type": "execute_result"
    }
   ],
   "source": [
    "summed"
   ]
  }
 ],
 "metadata": {
  "kernelspec": {
   "display_name": "Python 3",
   "language": "python",
   "name": "python3"
  },
  "language_info": {
   "codemirror_mode": {
    "name": "ipython",
    "version": 3
   },
   "file_extension": ".py",
   "mimetype": "text/x-python",
   "name": "python",
   "nbconvert_exporter": "python",
   "pygments_lexer": "ipython3",
   "version": "3.7.0"
  }
 },
 "nbformat": 4,
 "nbformat_minor": 2
}
