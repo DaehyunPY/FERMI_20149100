{
 "cells": [
  {
   "cell_type": "code",
   "execution_count": 111,
   "metadata": {},
   "outputs": [],
   "source": [
    "from typing import Generator\n",
    "from glob import iglob\n",
    "from itertools import chain\n",
    "\n",
    "from h5py import File\n",
    "import numpy as np\n",
    "import matplotlib.pyplot as plt\n",
    "from cytoolz import partition\n",
    "from scipy.fftpack import fft, fftshift\n",
    "from scipy.optimize import curve_fit\n",
    "from dask import delayed, compute\n",
    "from dask.bag import from_sequence\n",
    "from dask.diagnostics import ProgressBar\n",
    "from numba import jit"
   ]
  },
  {
   "cell_type": "code",
   "execution_count": 112,
   "metadata": {},
   "outputs": [],
   "source": [
    "def is_available(filename):\n",
    "    try:\n",
    "        with File(filename, 'r'):\n",
    "            pass\n",
    "        return True\n",
    "    except Exception:\n",
    "        return False\n",
    "\n",
    "\n",
    "def read_spectrum(filename: str):\n",
    "    with File(filename, \"r\") as f:\n",
    "        try:\n",
    "            x0 = 500\n",
    "            x1 = f[\"/photon_diagnostics/Spectrometer/Wavelength\"][...]\n",
    "            a = (\n",
    "                f[\"/photon_diagnostics/Spectrometer/WavelengthSpan\"][...]\n",
    "                * f[\"/photon_diagnostics/Spectrometer/Pixel2micron\"][...]\n",
    "                / 1000\n",
    "            )\n",
    "            arr = f[\"/photon_diagnostics/Spectrometer/hor_spectrum\"][...]\n",
    "            _, n = arr.shape\n",
    "            x = a * (np.arange(n) - x0) + x1\n",
    "            for y in arr:\n",
    "                yield {'x': x, 'y': y}\n",
    "        except KeyError:\n",
    "            return"
   ]
  },
  {
   "cell_type": "code",
   "execution_count": 113,
   "metadata": {},
   "outputs": [
    {
     "data": {
      "text/html": [
       "<div><strong>Dask DataFrame Structure:</strong></div>\n",
       "<div>\n",
       "<style scoped>\n",
       "    .dataframe tbody tr th:only-of-type {\n",
       "        vertical-align: middle;\n",
       "    }\n",
       "\n",
       "    .dataframe tbody tr th {\n",
       "        vertical-align: top;\n",
       "    }\n",
       "\n",
       "    .dataframe thead th {\n",
       "        text-align: right;\n",
       "    }\n",
       "</style>\n",
       "<table border=\"1\" class=\"dataframe\">\n",
       "  <thead>\n",
       "    <tr style=\"text-align: right;\">\n",
       "      <th></th>\n",
       "      <th>x</th>\n",
       "      <th>y</th>\n",
       "    </tr>\n",
       "    <tr>\n",
       "      <th>npartitions=145</th>\n",
       "      <th></th>\n",
       "      <th></th>\n",
       "    </tr>\n",
       "  </thead>\n",
       "  <tbody>\n",
       "    <tr>\n",
       "      <th></th>\n",
       "      <td>object</td>\n",
       "      <td>object</td>\n",
       "    </tr>\n",
       "    <tr>\n",
       "      <th></th>\n",
       "      <td>...</td>\n",
       "      <td>...</td>\n",
       "    </tr>\n",
       "    <tr>\n",
       "      <th>...</th>\n",
       "      <td>...</td>\n",
       "      <td>...</td>\n",
       "    </tr>\n",
       "    <tr>\n",
       "      <th></th>\n",
       "      <td>...</td>\n",
       "      <td>...</td>\n",
       "    </tr>\n",
       "    <tr>\n",
       "      <th></th>\n",
       "      <td>...</td>\n",
       "      <td>...</td>\n",
       "    </tr>\n",
       "  </tbody>\n",
       "</table>\n",
       "</div>\n",
       "<div>Dask Name: to_dataframe, 290 tasks</div>"
      ],
      "text/plain": [
       "Dask DataFrame Structure:\n",
       "                      x       y\n",
       "npartitions=145                \n",
       "                 object  object\n",
       "                    ...     ...\n",
       "...                 ...     ...\n",
       "                    ...     ...\n",
       "                    ...     ...\n",
       "Dask Name: to_dataframe, 290 tasks"
      ]
     },
     "execution_count": 113,
     "metadata": {},
     "output_type": "execute_result"
    }
   ],
   "source": [
    "filenames = (fn for fn in iglob(\"/data/TwoPulses/Run_038/rawdata/*.h5\") if is_available(fn))\n",
    "df = (\n",
    "    from_sequence(filenames)\n",
    "    .map(read_spectrum)\n",
    "    .flatten()\n",
    "    .to_dataframe()\n",
    ")\n",
    "df"
   ]
  },
  {
   "cell_type": "code",
   "execution_count": 126,
   "metadata": {},
   "outputs": [],
   "source": [
    "@jit(nopython=True)\n",
    "def model(k, phi, dt, k0, sigma, amp):\n",
    "    k = k - k0\n",
    "    return (\n",
    "        amp * np.cos((k * dt + phi) / 2) ** 2\n",
    "        * np.exp(-(k / sigma) ** 2 / 2) / sigma / (2 * np.pi) ** 0.5\n",
    "    )\n",
    "\n",
    "\n",
    "def fitted(x, y, **kwargs):\n",
    "    try:\n",
    "        opt, cov = curve_fit(model, x, y, **kwargs)\n",
    "        return opt[0]\n",
    "    except RuntimeError:\n",
    "        return np.nan\n",
    "# fitted(p0=[0, 100, 80.85, 0.05, 4e4])"
   ]
  },
  {
   "cell_type": "code",
   "execution_count": 134,
   "metadata": {},
   "outputs": [
    {
     "data": {
      "text/html": [
       "<div><strong>Dask DataFrame Structure:</strong></div>\n",
       "<div>\n",
       "<style scoped>\n",
       "    .dataframe tbody tr th:only-of-type {\n",
       "        vertical-align: middle;\n",
       "    }\n",
       "\n",
       "    .dataframe tbody tr th {\n",
       "        vertical-align: top;\n",
       "    }\n",
       "\n",
       "    .dataframe thead th {\n",
       "        text-align: right;\n",
       "    }\n",
       "</style>\n",
       "<table border=\"1\" class=\"dataframe\">\n",
       "  <thead>\n",
       "    <tr style=\"text-align: right;\">\n",
       "      <th></th>\n",
       "      <th>x</th>\n",
       "      <th>y</th>\n",
       "      <th>ph</th>\n",
       "    </tr>\n",
       "    <tr>\n",
       "      <th>npartitions=145</th>\n",
       "      <th></th>\n",
       "      <th></th>\n",
       "      <th></th>\n",
       "    </tr>\n",
       "  </thead>\n",
       "  <tbody>\n",
       "    <tr>\n",
       "      <th></th>\n",
       "      <td>object</td>\n",
       "      <td>object</td>\n",
       "      <td>float64</td>\n",
       "    </tr>\n",
       "    <tr>\n",
       "      <th></th>\n",
       "      <td>...</td>\n",
       "      <td>...</td>\n",
       "      <td>...</td>\n",
       "    </tr>\n",
       "    <tr>\n",
       "      <th>...</th>\n",
       "      <td>...</td>\n",
       "      <td>...</td>\n",
       "      <td>...</td>\n",
       "    </tr>\n",
       "    <tr>\n",
       "      <th></th>\n",
       "      <td>...</td>\n",
       "      <td>...</td>\n",
       "      <td>...</td>\n",
       "    </tr>\n",
       "    <tr>\n",
       "      <th></th>\n",
       "      <td>...</td>\n",
       "      <td>...</td>\n",
       "      <td>...</td>\n",
       "    </tr>\n",
       "  </tbody>\n",
       "</table>\n",
       "</div>\n",
       "<div>Dask Name: assign, 870 tasks</div>"
      ],
      "text/plain": [
       "Dask DataFrame Structure:\n",
       "                      x       y       ph\n",
       "npartitions=145                         \n",
       "                 object  object  float64\n",
       "                    ...     ...      ...\n",
       "...                 ...     ...      ...\n",
       "                    ...     ...      ...\n",
       "                    ...     ...      ...\n",
       "Dask Name: assign, 870 tasks"
      ]
     },
     "execution_count": 134,
     "metadata": {},
     "output_type": "execute_result"
    }
   ],
   "source": [
    "df[\"ph\"] = df.apply(lambda d: fitted(d[\"x\"], d[\"y\"], p0=[0, 150, 50.7, 0.05, 5e4]), axis=1, meta='f')\n",
    "df"
   ]
  },
  {
   "cell_type": "code",
   "execution_count": 135,
   "metadata": {},
   "outputs": [
    {
     "name": "stdout",
     "output_type": "stream",
     "text": [
      "[########################################] | 100% Completed | 38min 58.2s\n"
     ]
    }
   ],
   "source": [
    "with ProgressBar():\n",
    "    pdf = df[\"ph\"].compute()"
   ]
  },
  {
   "cell_type": "code",
   "execution_count": 139,
   "metadata": {},
   "outputs": [
    {
     "data": {
      "image/png": "[encoded data removed]",
      "text/plain": [
       "<Figure size 432x288 with 1 Axes>"
      ]
     },
     "metadata": {
      "needs_background": "light"
     },
     "output_type": "display_data"
    }
   ],
   "source": [
    "plt.hist(pdf % np.pi, bins=100)\n",
    "plt.show()"
   ]
  },
  {
   "cell_type": "code",
   "execution_count": 133,
   "metadata": {},
   "outputs": [
    {
     "data": {
      "image/png": "[encoded data removed]",
      "text/plain": [
       "<Figure size 432x288 with 1 Axes>"
      ]
     },
     "metadata": {
      "needs_background": "light"
     },
     "output_type": "display_data"
    }
   ],
   "source": [
    "x, y = df[[\"x\", \"y\"]].to_bag().take(1)[0]\n",
    "p0 = [0, 130, 50.7, 0.03, 5e4]\n",
    "opt, cov = curve_fit(model, x, y, p0=p0)\n",
    "\n",
    "plt.figure()\n",
    "plt.plot(x, y)\n",
    "plt.plot(x, model(x, *p0))\n",
    "plt.plot(x, model(x, *opt))\n",
    "plt.xlim(50.5, 51)\n",
    "plt.show()"
   ]
  },
  {
   "cell_type": "code",
   "execution_count": 32,
   "metadata": {},
   "outputs": [],
   "source": [
    "arr = np.stack(np.average(arr, 0) for arr in partition(1, spectra))"
   ]
  },
  {
   "cell_type": "code",
   "execution_count": 41,
   "metadata": {},
   "outputs": [
    {
     "data": {
      "image/png": "[encoded data removed]",
      "text/plain": [
       "<Figure size 432x288 with 1 Axes>"
      ]
     },
     "metadata": {
      "needs_background": "light"
     },
     "output_type": "display_data"
    }
   ],
   "source": [
    "# spec.shape\n",
    "# plt.plot(1/np.arange(n), arr[100])\n",
    "# plt.xlim(0, 0.01)\n",
    "i = 20\n",
    "plt.plot(arr[i])\n",
    "plt.show()"
   ]
  }
 ],
 "metadata": {
  "kernelspec": {
   "display_name": "Python 3",
   "language": "python",
   "name": "python3"
  },
  "language_info": {
   "codemirror_mode": {
    "name": "ipython",
    "version": 3
   },
   "file_extension": ".py",
   "mimetype": "text/x-python",
   "name": "python",
   "nbconvert_exporter": "python",
   "pygments_lexer": "ipython3",
   "version": "3.7.0"
  }
 },
 "nbformat": 4,
 "nbformat_minor": 2
}
