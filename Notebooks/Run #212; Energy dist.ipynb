{
 "cells": [
  {
   "cell_type": "code",
   "execution_count": 1,
   "metadata": {},
   "outputs": [],
   "source": [
    "from glob import iglob\n",
    "from datetime import datetime\n",
    "from itertools import chain, repeat\n",
    "\n",
    "import numpy as np\n",
    "import pandas as pd\n",
    "from cytoolz import compose, reduce\n",
    "from h5py import File\n",
    "from dask import delayed, compute\n",
    "from dask.bag import from_sequence\n",
    "from dask.diagnostics import ProgressBar\n",
    "import matplotlib.pyplot as plt"
   ]
  },
  {
   "cell_type": "code",
   "execution_count": 2,
   "metadata": {},
   "outputs": [],
   "source": [
    "def is_available(filename):\n",
    "    if filename.endswith(\"_0.h5\"):\n",
    "        return False\n",
    "    try:\n",
    "        with File(filename, 'r'):\n",
    "            pass\n",
    "        return True\n",
    "    except Exception:\n",
    "        return False\n",
    "\n",
    "\n",
    "def read_spectra(filename: str):\n",
    "    with File(filename, \"r\") as f:\n",
    "        try:\n",
    "            x0 = 500\n",
    "            x1 = f[\"/photon_diagnostics/Spectrometer/Wavelength\"][...]\n",
    "            a = (\n",
    "                f[\"/photon_diagnostics/Spectrometer/WavelengthSpan\"][...]\n",
    "                * f[\"/photon_diagnostics/Spectrometer/Pixel2micron\"][...]\n",
    "                / 1000\n",
    "            )\n",
    "            arr = f[\"/photon_diagnostics/Spectrometer/hor_spectrum\"][...]\n",
    "            _, n = arr.shape\n",
    "            x = a * (np.arange(n) - x0) + x1\n",
    "            for y in arr:\n",
    "                yield {\"x\": x, \"y\": y}\n",
    "        except KeyError:\n",
    "            return"
   ]
  },
  {
   "cell_type": "code",
   "execution_count": 3,
   "metadata": {
    "scrolled": true
   },
   "outputs": [
    {
     "data": {
      "text/html": [
       "<div>\n",
       "<style scoped>\n",
       "    .dataframe tbody tr th:only-of-type {\n",
       "        vertical-align: middle;\n",
       "    }\n",
       "\n",
       "    .dataframe tbody tr th {\n",
       "        vertical-align: top;\n",
       "    }\n",
       "\n",
       "    .dataframe thead th {\n",
       "        text-align: right;\n",
       "    }\n",
       "</style>\n",
       "<table border=\"1\" class=\"dataframe\">\n",
       "  <thead>\n",
       "    <tr style=\"text-align: right;\">\n",
       "      <th></th>\n",
       "      <th>config</th>\n",
       "      <th>level (cm−1)</th>\n",
       "      <th>level (nm)</th>\n",
       "      <th>level (eV)</th>\n",
       "      <th>level</th>\n",
       "      <th>energy (eV)</th>\n",
       "      <th>n*</th>\n",
       "      <th>line widths</th>\n",
       "      <th>jet absorption</th>\n",
       "      <th>ab initio</th>\n",
       "      <th>ref</th>\n",
       "    </tr>\n",
       "  </thead>\n",
       "  <tbody>\n",
       "    <tr>\n",
       "      <th>0</th>\n",
       "      <td>b'(18)</td>\n",
       "      <td>116209.0</td>\n",
       "      <td>86.051855</td>\n",
       "      <td>14.408079</td>\n",
       "      <td>0.529483</td>\n",
       "      <td>-1.172921</td>\n",
       "      <td>3.405820</td>\n",
       "      <td>sharp band</td>\n",
       "      <td>0.452</td>\n",
       "      <td>0.39</td>\n",
       "      <td>1</td>\n",
       "    </tr>\n",
       "    <tr>\n",
       "      <th>1</th>\n",
       "      <td>b'(19)</td>\n",
       "      <td>116684.5</td>\n",
       "      <td>85.701186</td>\n",
       "      <td>14.467034</td>\n",
       "      <td>0.531650</td>\n",
       "      <td>-1.113966</td>\n",
       "      <td>3.494782</td>\n",
       "      <td>sharp band</td>\n",
       "      <td>1.310</td>\n",
       "      <td>1.58</td>\n",
       "      <td>1</td>\n",
       "    </tr>\n",
       "    <tr>\n",
       "      <th>2</th>\n",
       "      <td>3pσ(6)</td>\n",
       "      <td>116810.2</td>\n",
       "      <td>85.608962</td>\n",
       "      <td>14.482618</td>\n",
       "      <td>0.532222</td>\n",
       "      <td>-1.098382</td>\n",
       "      <td>3.519488</td>\n",
       "      <td>sharp band</td>\n",
       "      <td>1.170</td>\n",
       "      <td>1.12</td>\n",
       "      <td>1</td>\n",
       "    </tr>\n",
       "    <tr>\n",
       "      <th>3</th>\n",
       "      <td>b'(20)</td>\n",
       "      <td>117206.7</td>\n",
       "      <td>85.319355</td>\n",
       "      <td>14.531778</td>\n",
       "      <td>0.534029</td>\n",
       "      <td>-1.049222</td>\n",
       "      <td>3.600994</td>\n",
       "      <td>sharp band</td>\n",
       "      <td>1.180</td>\n",
       "      <td>1.45</td>\n",
       "      <td>1</td>\n",
       "    </tr>\n",
       "    <tr>\n",
       "      <th>4</th>\n",
       "      <td>b'(21)</td>\n",
       "      <td>117684.1</td>\n",
       "      <td>84.973246</td>\n",
       "      <td>14.590968</td>\n",
       "      <td>0.536204</td>\n",
       "      <td>-0.990032</td>\n",
       "      <td>3.707076</td>\n",
       "      <td>broad band</td>\n",
       "      <td>0.565</td>\n",
       "      <td>0.55</td>\n",
       "      <td>1</td>\n",
       "    </tr>\n",
       "  </tbody>\n",
       "</table>\n",
       "</div>"
      ],
      "text/plain": [
       "   config  level (cm−1)  level (nm)  level (eV)     level  energy (eV)  \\\n",
       "0  b'(18)      116209.0   86.051855   14.408079  0.529483    -1.172921   \n",
       "1  b'(19)      116684.5   85.701186   14.467034  0.531650    -1.113966   \n",
       "2  3pσ(6)      116810.2   85.608962   14.482618  0.532222    -1.098382   \n",
       "3  b'(20)      117206.7   85.319355   14.531778  0.534029    -1.049222   \n",
       "4  b'(21)      117684.1   84.973246   14.590968  0.536204    -0.990032   \n",
       "\n",
       "         n* line widths  jet absorption  ab initio  ref  \n",
       "0  3.405820  sharp band           0.452       0.39    1  \n",
       "1  3.494782  sharp band           1.310       1.58    1  \n",
       "2  3.519488  sharp band           1.170       1.12    1  \n",
       "3  3.600994  sharp band           1.180       1.45    1  \n",
       "4  3.707076  broad band           0.565       0.55    1  "
      ]
     },
     "execution_count": 3,
     "metadata": {},
     "output_type": "execute_result"
    }
   ],
   "source": [
    "df = pd.read_excel(\"n2_levels.xlsx\")\n",
    "df.head()"
   ]
  },
  {
   "cell_type": "code",
   "execution_count": 4,
   "metadata": {},
   "outputs": [],
   "source": [
    "runs = [212]\n",
    "globbed = chain.from_iterable(iglob(f\"/data/*/Run_{r:03d}/rawdata/*.h5\") for r in runs)\n",
    "filenames = sorted(fn for fn in set(globbed) if is_available(fn))\n",
    "it = chain.from_iterable(read_spectra(fn) for fn in filenames)"
   ]
  },
  {
   "cell_type": "code",
   "execution_count": 5,
   "metadata": {},
   "outputs": [
    {
     "data": {
      "image/png": "[encoded data removed]",
      "text/plain": [
       "<Figure size 432x288 with 2 Axes>"
      ]
     },
     "metadata": {
      "needs_background": "light"
     },
     "output_type": "display_data"
    }
   ],
   "source": [
    "# %matplotlib notebook\n",
    "%matplotlib inline\n",
    "\n",
    "d = next(it)\n",
    "offset = -0.005\n",
    "plt.plot(1239.84193 / d[\"x\"] - offset, d[\"y\"])\n",
    "plt.ylim(0, None)\n",
    "plt.minorticks_on()\n",
    "plt.grid(True, which='both')\n",
    "plt.axvline(15.376 , linestyle='--', color='k')\n",
    "\n",
    "plt.twinx()\n",
    "plt.vlines(df[\"level (eV)\"], 0, df[\"jet absorption\"])\n",
    "plt.xlim(15.35, 15.4)\n",
    "plt.ylim(0, 1.5)\n",
    "plt.show()"
   ]
  }
 ],
 "metadata": {
  "kernelspec": {
   "display_name": "Python 3",
   "language": "python",
   "name": "python3"
  },
  "language_info": {
   "codemirror_mode": {
    "name": "ipython",
    "version": 3
   },
   "file_extension": ".py",
   "mimetype": "text/x-python",
   "name": "python",
   "nbconvert_exporter": "python",
   "pygments_lexer": "ipython3",
   "version": "3.7.0"
  }
 },
 "nbformat": 4,
 "nbformat_minor": 2
}
