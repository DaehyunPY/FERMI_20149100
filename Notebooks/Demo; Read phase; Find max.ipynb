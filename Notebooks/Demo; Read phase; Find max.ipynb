{
 "cells": [
  {
   "cell_type": "code",
   "execution_count": 1,
   "metadata": {},
   "outputs": [],
   "source": [
    "from typing import Generator\n",
    "from glob import iglob\n",
    "from itertools import chain\n",
    "\n",
    "from h5py import File\n",
    "import numpy as np\n",
    "import matplotlib.pyplot as plt\n",
    "from cytoolz import partition\n",
    "from scipy.fftpack import fft, fftshift\n",
    "from scipy.optimize import curve_fit\n",
    "from dask import delayed, compute\n",
    "from dask.bag import from_sequence\n",
    "from dask.diagnostics import ProgressBar\n",
    "from numba import jit"
   ]
  },
  {
   "cell_type": "code",
   "execution_count": 2,
   "metadata": {},
   "outputs": [],
   "source": [
    "def is_available(filename):\n",
    "    try:\n",
    "        with File(filename, 'r'):\n",
    "            pass\n",
    "        return True\n",
    "    except Exception:\n",
    "        return False\n",
    "\n",
    "\n",
    "def read_wavelength_at_max(filename: str):\n",
    "    with File(filename, \"r\") as f:\n",
    "        try:\n",
    "            x0 = 500\n",
    "            x1 = f[\"/photon_diagnostics/Spectrometer/Wavelength\"][...]\n",
    "            a = (\n",
    "                f[\"/photon_diagnostics/Spectrometer/WavelengthSpan\"][...]\n",
    "                * f[\"/photon_diagnostics/Spectrometer/Pixel2micron\"][...]\n",
    "                / 1000\n",
    "            )\n",
    "            arr = f[\"/photon_diagnostics/Spectrometer/hor_spectrum\"][...]\n",
    "            _, n = arr.shape\n",
    "            x = a * (np.arange(n) - x0) + x1\n",
    "            for tag, y in zip(f['/bunches'], arr):\n",
    "                yield {\"tag\": tag, \"atmax\": x[np.argmax(y)]}\n",
    "        except KeyError:\n",
    "            return"
   ]
  },
  {
   "cell_type": "code",
   "execution_count": 5,
   "metadata": {},
   "outputs": [
    {
     "data": {
      "text/html": [
       "<div><strong>Dask DataFrame Structure:</strong></div>\n",
       "<div>\n",
       "<style scoped>\n",
       "    .dataframe tbody tr th:only-of-type {\n",
       "        vertical-align: middle;\n",
       "    }\n",
       "\n",
       "    .dataframe tbody tr th {\n",
       "        vertical-align: top;\n",
       "    }\n",
       "\n",
       "    .dataframe thead th {\n",
       "        text-align: right;\n",
       "    }\n",
       "</style>\n",
       "<table border=\"1\" class=\"dataframe\">\n",
       "  <thead>\n",
       "    <tr style=\"text-align: right;\">\n",
       "      <th></th>\n",
       "      <th>atmax</th>\n",
       "      <th>tag</th>\n",
       "      <th>phi</th>\n",
       "    </tr>\n",
       "    <tr>\n",
       "      <th>npartitions=100</th>\n",
       "      <th></th>\n",
       "      <th></th>\n",
       "      <th></th>\n",
       "    </tr>\n",
       "  </thead>\n",
       "  <tbody>\n",
       "    <tr>\n",
       "      <th></th>\n",
       "      <td>float64</td>\n",
       "      <td>int64</td>\n",
       "      <td>float64</td>\n",
       "    </tr>\n",
       "    <tr>\n",
       "      <th></th>\n",
       "      <td>...</td>\n",
       "      <td>...</td>\n",
       "      <td>...</td>\n",
       "    </tr>\n",
       "    <tr>\n",
       "      <th>...</th>\n",
       "      <td>...</td>\n",
       "      <td>...</td>\n",
       "      <td>...</td>\n",
       "    </tr>\n",
       "    <tr>\n",
       "      <th></th>\n",
       "      <td>...</td>\n",
       "      <td>...</td>\n",
       "      <td>...</td>\n",
       "    </tr>\n",
       "    <tr>\n",
       "      <th></th>\n",
       "      <td>...</td>\n",
       "      <td>...</td>\n",
       "      <td>...</td>\n",
       "    </tr>\n",
       "  </tbody>\n",
       "</table>\n",
       "</div>\n",
       "<div>Dask Name: assign, 800 tasks</div>"
      ],
      "text/plain": [
       "Dask DataFrame Structure:\n",
       "                   atmax    tag      phi\n",
       "npartitions=100                         \n",
       "                 float64  int64  float64\n",
       "                     ...    ...      ...\n",
       "...                  ...    ...      ...\n",
       "                     ...    ...      ...\n",
       "                     ...    ...      ...\n",
       "Dask Name: assign, 800 tasks"
      ]
     },
     "execution_count": 5,
     "metadata": {},
     "output_type": "execute_result"
    }
   ],
   "source": [
    "filenames = (fn for fn in iglob(\"/data/TwoPulses/Run_038/rawdata/*.h5\") if is_available(fn))\n",
    "df = (\n",
    "    from_sequence(filenames)\n",
    "    .map(read_wavelength_at_max)\n",
    "    .flatten()\n",
    "    .to_dataframe()\n",
    ")\n",
    "df[\"phi\"] = 1239.84193 / df[\"atmax\"] % 0.0158 / 0.0158 * np.pi\n",
    "df"
   ]
  },
  {
   "cell_type": "code",
   "execution_count": 6,
   "metadata": {},
   "outputs": [
    {
     "name": "stdout",
     "output_type": "stream",
     "text": [
      "[########################################] | 100% Completed | 18.6s\n"
     ]
    }
   ],
   "source": [
    "with ProgressBar():\n",
    "    pdf = df.compute()"
   ]
  },
  {
   "cell_type": "code",
   "execution_count": 7,
   "metadata": {},
   "outputs": [
    {
     "data": {
      "image/png": "[encoded data removed]",
      "text/plain": [
       "<Figure size 432x288 with 1 Axes>"
      ]
     },
     "metadata": {
      "needs_background": "light"
     },
     "output_type": "display_data"
    }
   ],
   "source": [
    "plt.hist(pdf[\"phi\"], bins=10)\n",
    "plt.show()"
   ]
  }
 ],
 "metadata": {
  "kernelspec": {
   "display_name": "Python 3",
   "language": "python",
   "name": "python3"
  },
  "language_info": {
   "codemirror_mode": {
    "name": "ipython",
    "version": 3
   },
   "file_extension": ".py",
   "mimetype": "text/x-python",
   "name": "python",
   "nbconvert_exporter": "python",
   "pygments_lexer": "ipython3",
   "version": "3.7.0"
  }
 },
 "nbformat": 4,
 "nbformat_minor": 2
}
