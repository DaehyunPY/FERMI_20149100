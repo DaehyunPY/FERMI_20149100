{
 "cells": [
  {
   "cell_type": "code",
   "execution_count": 1,
   "metadata": {},
   "outputs": [],
   "source": [
    "from glob import iglob\n",
    "from datetime import datetime\n",
    "from itertools import chain, repeat\n",
    "\n",
    "import numpy as np\n",
    "import pandas as pd\n",
    "from cytoolz import compose, reduce\n",
    "from h5py import File\n",
    "from dask import delayed, compute\n",
    "from dask.bag import from_sequence\n",
    "from dask.diagnostics import ProgressBar\n",
    "import matplotlib.pyplot as plt"
   ]
  },
  {
   "cell_type": "code",
   "execution_count": 2,
   "metadata": {},
   "outputs": [],
   "source": [
    "def is_available(filename):\n",
    "    if filename.endswith(\"_0.h5\"):\n",
    "        return False\n",
    "    try:\n",
    "        with File(filename, 'r'):\n",
    "            pass\n",
    "        return True\n",
    "    except Exception:\n",
    "        return False\n",
    "\n",
    "\n",
    "def read_spectra(filename: str):\n",
    "    with File(filename, \"r\") as f:\n",
    "        try:\n",
    "            x0 = 500\n",
    "            x1 = f[\"/photon_diagnostics/Spectrometer/Wavelength\"][...]\n",
    "            a = (\n",
    "                f[\"/photon_diagnostics/Spectrometer/WavelengthSpan\"][...]\n",
    "                * f[\"/photon_diagnostics/Spectrometer/Pixel2micron\"][...]\n",
    "                / 1000\n",
    "            )\n",
    "            arr = f[\"/photon_diagnostics/Spectrometer/hor_spectrum\"][...]\n",
    "            _, n = arr.shape\n",
    "            x = a * (np.arange(n) - x0) + x1\n",
    "            for y in arr:\n",
    "                yield {\"x\": x, \"y\": y}\n",
    "        except KeyError:\n",
    "            return"
   ]
  },
  {
   "cell_type": "code",
   "execution_count": 176,
   "metadata": {},
   "outputs": [
    {
     "data": {
      "text/html": [
       "<div>\n",
       "<style scoped>\n",
       "    .dataframe tbody tr th:only-of-type {\n",
       "        vertical-align: middle;\n",
       "    }\n",
       "\n",
       "    .dataframe tbody tr th {\n",
       "        vertical-align: top;\n",
       "    }\n",
       "\n",
       "    .dataframe thead th {\n",
       "        text-align: right;\n",
       "    }\n",
       "</style>\n",
       "<table border=\"1\" class=\"dataframe\">\n",
       "  <thead>\n",
       "    <tr style=\"text-align: right;\">\n",
       "      <th></th>\n",
       "      <th>n</th>\n",
       "      <th>config</th>\n",
       "      <th>n*</th>\n",
       "      <th>level (eV)</th>\n",
       "      <th>dlevel (eV)</th>\n",
       "      <th>level</th>\n",
       "      <th>energy (eV)</th>\n",
       "      <th>energy</th>\n",
       "      <th>tau</th>\n",
       "      <th>tau (fs)</th>\n",
       "      <th>ref</th>\n",
       "    </tr>\n",
       "  </thead>\n",
       "  <tbody>\n",
       "    <tr>\n",
       "      <th>0</th>\n",
       "      <td>2</td>\n",
       "      <td>1s2p 1P</td>\n",
       "      <td>2.009354</td>\n",
       "      <td>21.218023</td>\n",
       "      <td>NaN</td>\n",
       "      <td>0.779742</td>\n",
       "      <td>-3.369366</td>\n",
       "      <td>-0.123821</td>\n",
       "      <td>50.985152</td>\n",
       "      <td>1.233272</td>\n",
       "      <td>1</td>\n",
       "    </tr>\n",
       "    <tr>\n",
       "      <th>1</th>\n",
       "      <td>3</td>\n",
       "      <td>1s3p 1P</td>\n",
       "      <td>3.011143</td>\n",
       "      <td>23.087019</td>\n",
       "      <td>1.868996</td>\n",
       "      <td>0.848426</td>\n",
       "      <td>-1.500370</td>\n",
       "      <td>-0.055137</td>\n",
       "      <td>171.580676</td>\n",
       "      <td>4.150338</td>\n",
       "      <td>1</td>\n",
       "    </tr>\n",
       "    <tr>\n",
       "      <th>2</th>\n",
       "      <td>4</td>\n",
       "      <td>1s4p 1P</td>\n",
       "      <td>4.011625</td>\n",
       "      <td>23.742070</td>\n",
       "      <td>0.655052</td>\n",
       "      <td>0.872498</td>\n",
       "      <td>-0.845319</td>\n",
       "      <td>-0.031065</td>\n",
       "      <td>405.728343</td>\n",
       "      <td>9.814099</td>\n",
       "      <td>1</td>\n",
       "    </tr>\n",
       "    <tr>\n",
       "      <th>3</th>\n",
       "      <td>5</td>\n",
       "      <td>1s5p 1P</td>\n",
       "      <td>5.011826</td>\n",
       "      <td>24.045801</td>\n",
       "      <td>0.303730</td>\n",
       "      <td>0.883660</td>\n",
       "      <td>-0.541588</td>\n",
       "      <td>-0.019903</td>\n",
       "      <td>791.155985</td>\n",
       "      <td>19.137148</td>\n",
       "      <td>1</td>\n",
       "    </tr>\n",
       "    <tr>\n",
       "      <th>4</th>\n",
       "      <td>6</td>\n",
       "      <td>1s6p 1P</td>\n",
       "      <td>6.011929</td>\n",
       "      <td>24.211003</td>\n",
       "      <td>0.165202</td>\n",
       "      <td>0.889731</td>\n",
       "      <td>-0.376386</td>\n",
       "      <td>-0.013832</td>\n",
       "      <td>1365.575765</td>\n",
       "      <td>33.031698</td>\n",
       "      <td>1</td>\n",
       "    </tr>\n",
       "  </tbody>\n",
       "</table>\n",
       "</div>"
      ],
      "text/plain": [
       "   n   config        n*  level (eV)  dlevel (eV)     level  energy (eV)  \\\n",
       "0  2  1s2p 1P  2.009354   21.218023          NaN  0.779742    -3.369366   \n",
       "1  3  1s3p 1P  3.011143   23.087019     1.868996  0.848426    -1.500370   \n",
       "2  4  1s4p 1P  4.011625   23.742070     0.655052  0.872498    -0.845319   \n",
       "3  5  1s5p 1P  5.011826   24.045801     0.303730  0.883660    -0.541588   \n",
       "4  6  1s6p 1P  6.011929   24.211003     0.165202  0.889731    -0.376386   \n",
       "\n",
       "     energy          tau   tau (fs)  ref  \n",
       "0 -0.123821    50.985152   1.233272    1  \n",
       "1 -0.055137   171.580676   4.150338    1  \n",
       "2 -0.031065   405.728343   9.814099    1  \n",
       "3 -0.019903   791.155985  19.137148    1  \n",
       "4 -0.013832  1365.575765  33.031698    1  "
      ]
     },
     "execution_count": 176,
     "metadata": {},
     "output_type": "execute_result"
    }
   ],
   "source": [
    "# df = pd.read_excel(\"he_levels.xlsx\")\n",
    "# df.head()"
   ]
  },
  {
   "cell_type": "code",
   "execution_count": 32,
   "metadata": {},
   "outputs": [],
   "source": [
    "runs = [330]\n",
    "globbed = chain.from_iterable(iglob(f\"/data/*/Run_{r:03d}/rawdata/*.h5\") for r in runs)\n",
    "filenames = sorted(fn for fn in set(globbed) if is_available(fn))\n",
    "it = chain.from_iterable(read_spectra(fn) for fn in filenames)"
   ]
  },
  {
   "cell_type": "code",
   "execution_count": 38,
   "metadata": {},
   "outputs": [
    {
     "data": {
      "image/png": "[encoded data removed]",
      "text/plain": [
       "<Figure size 432x288 with 1 Axes>"
      ]
     },
     "metadata": {
      "needs_background": "light"
     },
     "output_type": "display_data"
    }
   ],
   "source": [
    "d = next(it)\n",
    "offset = 0\n",
    "plt.plot(1239.84193 / d[\"x\"] - offset, d[\"y\"])\n",
    "plt.ylim(0, None)\n",
    "plt.minorticks_on()\n",
    "plt.grid(True, which='both')\n",
    "plt.axvline(15.38 , linestyle='--', color='k')\n",
    "\n",
    "# plt.twinx()\n",
    "# plt.vlines(df[\"level (eV)\"], 0, df[\"n\"]**(-3/2))\n",
    "# plt.xlim(24.4, 24.6)\n",
    "# plt.ylim(0, 0.05)\n",
    "plt.show()"
   ]
  },
  {
   "cell_type": "code",
   "execution_count": 14,
   "metadata": {},
   "outputs": [],
   "source": [
    "runs = [340]\n",
    "globbed = chain.from_iterable(iglob(f\"/data/*/Run_{r:03d}/rawdata/*.h5\") for r in runs)\n",
    "filenames = sorted(fn for fn in set(globbed) if is_available(fn))\n",
    "it3 = chain.from_iterable(read_spectra(fn) for fn in filenames)"
   ]
  },
  {
   "cell_type": "code",
   "execution_count": 42,
   "metadata": {},
   "outputs": [
    {
     "data": {
      "image/png": "[encoded data removed]",
      "text/plain": [
       "<Figure size 432x288 with 1 Axes>"
      ]
     },
     "metadata": {
      "needs_background": "light"
     },
     "output_type": "display_data"
    }
   ],
   "source": [
    "d = next(it3)\n",
    "offset = 0\n",
    "plt.plot(1239.84193 / d[\"x\"] - offset, d[\"y\"])\n",
    "plt.ylim(0, None)\n",
    "plt.minorticks_on()\n",
    "plt.grid(True, which='both')\n",
    "plt.axvline(15.38 , linestyle='--', color='k')\n",
    "\n",
    "# plt.twinx()\n",
    "# plt.vlines(df[\"level (eV)\"], 0, df[\"n\"]**(-3/2))\n",
    "# plt.xlim(24.4, 24.6)\n",
    "# plt.ylim(0, 0.05)\n",
    "plt.show()"
   ]
  },
  {
   "cell_type": "code",
   "execution_count": 19,
   "metadata": {},
   "outputs": [],
   "source": [
    "runs = [345]\n",
    "globbed = chain.from_iterable(iglob(f\"/data/*/Run_{r:03d}/rawdata/*.h5\") for r in runs)\n",
    "filenames = sorted(fn for fn in set(globbed) if is_available(fn))\n",
    "it2 = chain.from_iterable(read_spectra(fn) for fn in filenames)"
   ]
  },
  {
   "cell_type": "code",
   "execution_count": 43,
   "metadata": {},
   "outputs": [
    {
     "data": {
      "image/png": "[encoded data removed]",
      "text/plain": [
       "<Figure size 432x288 with 1 Axes>"
      ]
     },
     "metadata": {
      "needs_background": "light"
     },
     "output_type": "display_data"
    }
   ],
   "source": [
    "d = next(it2)\n",
    "offset = 0\n",
    "plt.plot(1239.84193 / d[\"x\"] - offset, d[\"y\"])\n",
    "plt.ylim(0, None)\n",
    "plt.minorticks_on()\n",
    "plt.grid(True, which='both')\n",
    "plt.axvline(15.38 , linestyle='--', color='k')\n",
    "\n",
    "# plt.twinx()\n",
    "# plt.vlines(df[\"level (eV)\"], 0, df[\"n\"]**(-3/2))\n",
    "# plt.xlim(24.4, 24.6)\n",
    "# plt.ylim(0, 0.05)\n",
    "plt.show()"
   ]
  },
  {
   "cell_type": "code",
   "execution_count": null,
   "metadata": {},
   "outputs": [],
   "source": []
  },
  {
   "cell_type": "code",
   "execution_count": null,
   "metadata": {},
   "outputs": [],
   "source": []
  }
 ],
 "metadata": {
  "kernelspec": {
   "display_name": "Python 3",
   "language": "python",
   "name": "python3"
  },
  "language_info": {
   "codemirror_mode": {
    "name": "ipython",
    "version": 3
   },
   "file_extension": ".py",
   "mimetype": "text/x-python",
   "name": "python",
   "nbconvert_exporter": "python",
   "pygments_lexer": "ipython3",
   "version": "3.7.0"
  }
 },
 "nbformat": 4,
 "nbformat_minor": 2
}
