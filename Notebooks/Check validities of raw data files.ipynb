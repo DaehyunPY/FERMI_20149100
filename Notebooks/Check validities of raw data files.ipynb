{
 "cells": [
  {
   "cell_type": "code",
   "execution_count": 1,
   "metadata": {},
   "outputs": [],
   "source": [
    "from itertools import chain\n",
    "from glob import iglob\n",
    "import sqlite3\n",
    "\n",
    "from h5py import File\n",
    "import numpy as np\n",
    "import pandas as pd"
   ]
  },
  {
   "cell_type": "code",
   "execution_count": 13,
   "metadata": {},
   "outputs": [],
   "source": [
    "def filenames(*runs):\n",
    "    for r in sorted(set(runs)):\n",
    "        yield from sorted(iglob(\"/data/Run_{0:03d}/rawdata/Run_{0:03d}_*.h5\".format(r)))\n",
    "\n",
    "\n",
    "def keys_missing(filename):\n",
    "    with File(filename, \"r\") as fp:\n",
    "        for k in [\"/bunches\",\n",
    "                  \"/photon_diagnostics/FEL01/I0_monitor/iom_sh_a_pc\",\n",
    "                  \"/photon_diagnostics/Spectrometer/hor_spectrum\",\n",
    "                  \"/user_laser/delay_line/position\",\n",
    "                  \"/user_laser/energy_meter/Energy1\",\n",
    "                  \"/digitizer/channel1\",\n",
    "                  \"/vmi/andor\"]:\n",
    "            if k not in fp:\n",
    "                yield {\n",
    "                    \"Filename\": filename,\n",
    "                    \"Key missing\": k,\n",
    "                }\n",
    "                \n",
    "\n",
    "def tags_range(run):\n",
    "    fn0, *_, fn1 = filenames(run)\n",
    "    with File(fn0, \"r\") as fp:\n",
    "        tg0 = fp[\"/bunches\"][0]\n",
    "    with File(fn1, \"r\") as fp:\n",
    "        tg1 = fp[\"/bunches\"][-1]\n",
    "    return {\n",
    "        \"Run\": run,\n",
    "        \"Tag first\": tg0,\n",
    "        \"Tag last\": tg1,\n",
    "    }"
   ]
  },
  {
   "cell_type": "code",
   "execution_count": 12,
   "metadata": {},
   "outputs": [],
   "source": [
    "runs = pd.read_excel(\"../Data/runs.xlsx\")\n",
    "for fn in filenames(*runs[runs[\"Source\"] == \"N2\"][\"Run\"]):\n",
    "    for d in keys_missing(fn):\n",
    "        with open(\"../Data/files_bad.txt\", \"a\") as fp:\n",
    "            fp.write(\"{Filename},{Key missing}\\n\".format(**d))"
   ]
  },
  {
   "cell_type": "code",
   "execution_count": 18,
   "metadata": {},
   "outputs": [
    {
     "data": {
      "text/html": [
       "<div>\n",
       "<style scoped>\n",
       "    .dataframe tbody tr th:only-of-type {\n",
       "        vertical-align: middle;\n",
       "    }\n",
       "\n",
       "    .dataframe tbody tr th {\n",
       "        vertical-align: top;\n",
       "    }\n",
       "\n",
       "    .dataframe thead th {\n",
       "        text-align: right;\n",
       "    }\n",
       "</style>\n",
       "<table border=\"1\" class=\"dataframe\">\n",
       "  <thead>\n",
       "    <tr style=\"text-align: right;\">\n",
       "      <th></th>\n",
       "      <th>Run</th>\n",
       "      <th>Tag first</th>\n",
       "      <th>Tag last</th>\n",
       "    </tr>\n",
       "  </thead>\n",
       "  <tbody>\n",
       "    <tr>\n",
       "      <td>0</td>\n",
       "      <td>197</td>\n",
       "      <td>485824632</td>\n",
       "      <td>485826631</td>\n",
       "    </tr>\n",
       "    <tr>\n",
       "      <td>1</td>\n",
       "      <td>198</td>\n",
       "      <td>485899491</td>\n",
       "      <td>485901490</td>\n",
       "    </tr>\n",
       "    <tr>\n",
       "      <td>2</td>\n",
       "      <td>199</td>\n",
       "      <td>485995014</td>\n",
       "      <td>485999881</td>\n",
       "    </tr>\n",
       "    <tr>\n",
       "      <td>3</td>\n",
       "      <td>200</td>\n",
       "      <td>486010631</td>\n",
       "      <td>486015630</td>\n",
       "    </tr>\n",
       "    <tr>\n",
       "      <td>4</td>\n",
       "      <td>201</td>\n",
       "      <td>486050548</td>\n",
       "      <td>486055547</td>\n",
       "    </tr>\n",
       "  </tbody>\n",
       "</table>\n",
       "</div>"
      ],
      "text/plain": [
       "   Run  Tag first   Tag last\n",
       "0  197  485824632  485826631\n",
       "1  198  485899491  485901490\n",
       "2  199  485995014  485999881\n",
       "3  200  486010631  486015630\n",
       "4  201  486050548  486055547"
      ]
     },
     "execution_count": 18,
     "metadata": {},
     "output_type": "execute_result"
    }
   ],
   "source": [
    "runs = pd.read_excel(\"../Data/runs.xlsx\")\n",
    "df = pd.DataFrame([tags_range(run) for run in runs[runs[\"Source\"] == \"N2\"][\"Run\"]])\n",
    "df.head()"
   ]
  }
 ],
 "metadata": {
  "kernelspec": {
   "display_name": "Python 3",
   "language": "python",
   "name": "python3"
  },
  "language_info": {
   "codemirror_mode": {
    "name": "ipython",
    "version": 3
   },
   "file_extension": ".py",
   "mimetype": "text/x-python",
   "name": "python",
   "nbconvert_exporter": "python",
   "pygments_lexer": "ipython3",
   "version": "3.7.4"
  }
 },
 "nbformat": 4,
 "nbformat_minor": 2
}
